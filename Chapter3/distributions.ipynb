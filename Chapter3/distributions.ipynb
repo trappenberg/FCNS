{
 "cells": [
  {
   "cell_type": "code",
   "execution_count": null,
   "id": "e44c0f7b",
   "metadata": {},
   "outputs": [],
   "source": [
    "import numpy as np\n",
    "import matplotlib.pyplot as plt\n",
    "from scipy import stats\n",
    "\n",
    "x = np.random.rand(1000)\n",
    "n, bins = np.histogram(x)\n",
    "plt.bar(bins[:-1]+0.05,n/1000,0.1)\n",
    "plt.xlabel('x'), plt.ylabel('P(x)')"
   ]
  }
 ],
 "metadata": {
  "kernelspec": {
   "display_name": "Python 3 (ipykernel)",
   "language": "python",
   "name": "python3"
  },
  "language_info": {
   "codemirror_mode": {
    "name": "ipython",
    "version": 3
   },
   "file_extension": ".py",
   "mimetype": "text/x-python",
   "name": "python",
   "nbconvert_exporter": "python",
   "pygments_lexer": "ipython3",
   "version": "3.9.7"
  }
 },
 "nbformat": 4,
 "nbformat_minor": 5
}
