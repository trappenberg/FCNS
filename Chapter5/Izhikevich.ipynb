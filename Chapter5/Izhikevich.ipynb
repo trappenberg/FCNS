{
 "cells": [
  {
   "cell_type": "code",
   "execution_count": null,
   "id": "b0266fd5",
   "metadata": {},
   "outputs": [],
   "source": [
    "#Izhikevich model\n",
    "import matplotlib.pyplot as plt\n",
    "\n",
    "# Parameters and initialization\n",
    "a=0.02; b=0.2; c=-65; d=2\n",
    "Iext=10.; v=[-65]; u=[-65*b]; t=[0]; dt=0.5; \n",
    "        \n",
    "for step in range(1,int(200/dt)):\n",
    "    # record time steps \n",
    "    t.append(t[step-1]+dt)\n",
    "    #numerical integration and recording of Izhikevich equations  \n",
    "    v.append(v[step-1] + \n",
    "     dt*(0.04*v[step-1]**2+5*v[step-1]+140-u[step-1]+Iext)) \n",
    "    u.append(u[step-1]+dt*a*(b*v[step-1]-u[step-1]))\n",
    "    if v[step]>30:\n",
    "        v[step-1]=30; v[step]=c\n",
    "        u[step]=u[step]+d\n",
    "    \n",
    "# Plotting results\n",
    "plt.plot(t,v); plt.xlabel('t'); plt.ylabel('v');"
   ]
  }
 ],
 "metadata": {
  "kernelspec": {
   "display_name": "Python 3 (ipykernel)",
   "language": "python",
   "name": "python3"
  },
  "language_info": {
   "codemirror_mode": {
    "name": "ipython",
    "version": 3
   },
   "file_extension": ".py",
   "mimetype": "text/x-python",
   "name": "python",
   "nbconvert_exporter": "python",
   "pygments_lexer": "ipython3",
   "version": "3.9.7"
  }
 },
 "nbformat": 4,
 "nbformat_minor": 5
}
