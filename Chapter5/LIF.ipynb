{
 "cells": [
  {
   "cell_type": "code",
   "execution_count": null,
   "id": "06dfdd93",
   "metadata": {},
   "outputs": [],
   "source": [
    "# Simulation of (leaky) integrate-and-fire neuron\n",
    "import numpy as np\n",
    "import matplotlib.pyplot as plt\n",
    "\n",
    "# parameters of the model\n",
    "dt=0.1       # integration time step [ms]\n",
    "tau=10       # time constant [ms]\n",
    "E_L=-65      # resting potential [mV]\n",
    "theta=-55    # firing threshold [mV]\n",
    "RI_ext=8   # constant external input [mA/Ohm]\n",
    " \n",
    "# Integration with Euler method\n",
    "v_rec=np.array([])\n",
    "t_rec=np.array([])\n",
    "s_rec=np.array([])\n",
    "t_step=0; v=E_L\n",
    "for t in range(int(100/dt)):\n",
    "    s=v>theta\n",
    "    v=s*E_L+(1-s)*(v-dt/tau*((v-E_L)-RI_ext))\n",
    "    v_rec=np.append(v_rec,v)\n",
    "    t_rec=np.append(t_rec,t)\n",
    "    s_rec=np.append(s_rec,s)\n",
    "\n",
    "# Plotting results\n",
    "ax1 = plt.axes([0.2, 0.7, 0.7, 0.2])\n",
    "ax1.plot(t_rec,s_rec,'.',markersize=20)\n",
    "ax1.axis([0, 100/dt, 0.5, 1.5])\n",
    "plt.xticks([], []); plt.yticks([], [])\n",
    "plt.ylabel('Spikes')\n",
    "\n",
    "ax2 = plt.axes([0.2, 0.2, 0.7, 0.5])\n",
    "ax2.plot(t_rec,v_rec)\n",
    "ax2.plot([0, 100/dt],[-55, -55],'--');\n",
    "ax2.axis([0, 100/dt, -66, -53])\n",
    "plt.xlabel('Time [ms]'); plt.ylabel('v [mV]')"
   ]
  }
 ],
 "metadata": {
  "kernelspec": {
   "display_name": "Python 3 (ipykernel)",
   "language": "python",
   "name": "python3"
  },
  "language_info": {
   "codemirror_mode": {
    "name": "ipython",
    "version": 3
   },
   "file_extension": ".py",
   "mimetype": "text/x-python",
   "name": "python",
   "nbconvert_exporter": "python",
   "pygments_lexer": "ipython3",
   "version": "3.9.7"
  }
 },
 "nbformat": 4,
 "nbformat_minor": 5
}
