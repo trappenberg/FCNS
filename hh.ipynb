{
 "cells": [
  {
   "cell_type": "code",
   "execution_count": null,
   "id": "192a0376",
   "metadata": {},
   "outputs": [],
   "source": [
    "# Hogdkin-Huxley model\n",
    "import numpy as np\n",
    "import matplotlib.pyplot as plt\n",
    "# Max conductances (in units of mS/cm^2); 0=K,1=Na,2=R\n",
    "g = np.array([36,120,0.3])\n",
    "# Battery voltage ( in mV); 0=n, 1=m, 2=h\n",
    "V = np.array([-12,115,10.613])\n",
    "# Initialization of some variables\n",
    "v=0; x = np.array([0,0,1]); t=0; dt=0.01\n",
    "t_rec=[]; v_rec=[]; x_0_rec=[]\n",
    "# Integration with Euler method\n",
    "for step in range(1,int(100/dt)):\n",
    "     t=t+dt\n",
    "     if t>30 and t<89: I_ext=10 \n",
    "     else: I_ext=0\n",
    "  # alpha functions used by Hodgkin-and Huxley\n",
    "     Alpha = np.array(\n",
    "         [0.01*(-v+10)/(np.exp((-v+10)/10)-1),\n",
    "          0.1*(-v+25)/(np.exp((-v+25)/10)-1),\n",
    "          0.07*np.exp(-v/20)])\n",
    "  # beta functions used by Hodgkin-and Huxley\n",
    "     Beta = np.array([0.125*np.exp(-v/80),\n",
    "                      4*np.exp(-v/18),\n",
    "                      1/(np.exp((-v+30)/10)+1)])\n",
    "  # update x = {n,m,h} variables\n",
    "     x = x+dt*(Alpha*(1-x)-Beta*x)\n",
    "  # calculate actual conductances g with given n, m, h\n",
    "     gx=np.array([g[0]*x[0]**4,g[1]*x[1]**3*x[2],g[2]])\n",
    "  # Ohm's law\n",
    "     I = gx*(v-V);\n",
    "  # update voltage of membrane\n",
    "     v = v+dt*(I_ext-sum(I))\n",
    "  # record some variables for plotting after equil.\n",
    "     t_rec.append(t)\n",
    "     v_rec.append(v)\n",
    "     \n",
    "# Plotting results\n",
    "plt.plot(t_rec,v_rec); \n",
    "plt.xlabel('Time'); plt.ylabel('Voltage')\n",
    "plt.rcParams.update({'font.size': 15})\n",
    "plt.legend(loc=\"center left\")"
   ]
  }
 ],
 "metadata": {
  "kernelspec": {
   "display_name": "Python 3 (ipykernel)",
   "language": "python",
   "name": "python3"
  },
  "language_info": {
   "codemirror_mode": {
    "name": "ipython",
    "version": 3
   },
   "file_extension": ".py",
   "mimetype": "text/x-python",
   "name": "python",
   "nbconvert_exporter": "python",
   "pygments_lexer": "ipython3",
   "version": "3.9.7"
  }
 },
 "nbformat": 4,
 "nbformat_minor": 5
}
