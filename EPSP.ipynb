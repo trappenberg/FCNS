{
 "cells": [
  {
   "cell_type": "code",
   "execution_count": null,
   "id": "6415986a",
   "metadata": {},
   "outputs": [],
   "source": [
    "# Synaptic conductance model to simulate an EPSP\n",
    "import matplotlib.pyplot as plt\n",
    "\n",
    "# Setting some constants and initial values\n",
    "c_m=1; V_l=0; V_s=10; tau=1; dt=0.1;  \n",
    "g_l=1; g_s=[0]; \n",
    "I_l=[0]; I_s=[0]; \n",
    "v_m=[0]; t=[0];\n",
    "\n",
    "# Numerical integration using Euler scheme\n",
    "for step in range(1,int(10/dt)):\n",
    "    # record the time (in ms) in slot step of vector t \n",
    "    t.append(t[step-1]+dt)\n",
    "    # simulate opening synaptic chanels around t=1ms  \n",
    "    if abs(t[step]-1) < 0.0001: g_s[step-1] = 1;  \n",
    "    # calculate the currents at this time \n",
    "    I_l.append(g_l * (v_m[step-1]-V_l)) \n",
    "    I_s.append(g_s[step-1] * (v_m[step-1]-V_s))  \n",
    "    # update conductance and membrane potential \n",
    "    g_s.append(g_s[step-1]-dt/tau * g_s[step-1]) \n",
    "    v_m.append(v_m[step-1]-dt/c_m*(I_l[step]+I_s[step])) \n",
    "    \n",
    "plt.plot(t,v_m,'k'); "
   ]
  }
 ],
 "metadata": {
  "kernelspec": {
   "display_name": "Python 3 (ipykernel)",
   "language": "python",
   "name": "python3"
  },
  "language_info": {
   "codemirror_mode": {
    "name": "ipython",
    "version": 3
   },
   "file_extension": ".py",
   "mimetype": "text/x-python",
   "name": "python",
   "nbconvert_exporter": "python",
   "pygments_lexer": "ipython3",
   "version": "3.9.7"
  }
 },
 "nbformat": 4,
 "nbformat_minor": 5
}
