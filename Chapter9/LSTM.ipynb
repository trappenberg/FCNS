{
 "cells": [
  {
   "cell_type": "code",
   "execution_count": 2,
   "metadata": {},
   "outputs": [
    {
     "name": "stdout",
     "output_type": "stream",
     "text": [
      "Train on 25000 samples, validate on 25000 samples\n",
      "Epoch 1/4\n",
      "25000/25000 [==============================] - 69s 3ms/step - loss: 0.6255 - acc: 0.6346 - val_loss: 0.5540 - val_acc: 0.7084\n",
      "Epoch 2/4\n",
      "25000/25000 [==============================] - 65s 3ms/step - loss: 0.5342 - acc: 0.7339 - val_loss: 0.5421 - val_acc: 0.7140\n",
      "Epoch 3/4\n",
      "25000/25000 [==============================] - 66s 3ms/step - loss: 0.4938 - acc: 0.7592 - val_loss: 0.5411 - val_acc: 0.7148\n",
      "Epoch 4/4\n",
      "25000/25000 [==============================] - 65s 3ms/step - loss: 0.4633 - acc: 0.7801 - val_loss: 0.5611 - val_acc: 0.7159\n",
      "25000/25000 [==============================] - 4s 160us/step\n",
      "Test accuracy: 0.71588\n"
     ]
    }
   ],
   "source": [
    "from keras.preprocessing import sequence\n",
    "from keras import models, layers, optimizers, datasets, utils, losses\n",
    "\n",
    "vocabulary_size = 20000\n",
    "maxlen = 8\n",
    "batch_size = 32\n",
    "\n",
    "(x_train, y_train), (x_test, y_test) = datasets.imdb.load_data(num_words=vocabulary_size)\n",
    "x_train = sequence.pad_sequences(x_train, maxlen)\n",
    "x_test = sequence.pad_sequences(x_test, maxlen)\n",
    "\n",
    "inputs = layers.Input(shape=(maxlen,))\n",
    "e=layers.Embedding(vocabulary_size, 128)(inputs)\n",
    "h=layers.LSTM(128, dropout=0.8, recurrent_dropout=0.8)(e)\n",
    "h=layers.Dropout(0.7)(h)\n",
    "outputs=layers.Dense(1, activation='sigmoid')(h)\n",
    "model = models.Model(inputs, outputs)\n",
    "\n",
    "model.compile(loss='binary_crossentropy',\n",
    "              optimizer='adam',\n",
    "              metrics=['accuracy'])\n",
    "\n",
    "model.fit(x_train, y_train,\n",
    "          batch_size=batch_size,\n",
    "          epochs=4,\n",
    "          validation_data=(x_test, y_test))\n",
    "score, acc = model.evaluate(x_test, y_test,\n",
    "                            batch_size=batch_size)\n",
    "print('Test accuracy:', acc)"
   ]
  },
  {
   "cell_type": "code",
   "execution_count": null,
   "metadata": {},
   "outputs": [],
   "source": [
    "Train on 25000 samples, validate on 25000 samples\n",
    "Epoch 1/4\n",
    "25000/25000 [==============================] - 74s 3ms/step - loss: 0.5725 - acc: 0.6891 - val_loss: 0.5384 - val_acc: 0.7125\n",
    "Epoch 2/4\n",
    "25000/25000 [==============================] - 74s 3ms/step - loss: 0.4504 - acc: 0.7788 - val_loss: 0.5578 - val_acc: 0.7124\n",
    "Epoch 3/4\n",
    "25000/25000 [==============================] - 74s 3ms/step - loss: 0.3661 - acc: 0.8295 - val_loss: 0.6087 - val_acc: 0.7068\n",
    "Epoch 4/4\n",
    "25000/25000 [==============================] - 74s 3ms/step - loss: 0.2980 - acc: 0.8648 - val_loss: 0.6932 - val_acc: 0.7044\n",
    "25000/25000 [==============================] - 5s 210us/step\n",
    "Test accuracy: 0.7044\n",
    "\n",
    "​"
   ]
  }
 ],
 "metadata": {
  "kernelspec": {
   "display_name": "Python 3",
   "language": "python",
   "name": "python3"
  },
  "language_info": {
   "codemirror_mode": {
    "name": "ipython",
    "version": 3
   },
   "file_extension": ".py",
   "mimetype": "text/x-python",
   "name": "python",
   "nbconvert_exporter": "python",
   "pygments_lexer": "ipython3",
   "version": "3.6.6"
  }
 },
 "nbformat": 4,
 "nbformat_minor": 2
}
