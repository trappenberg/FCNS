{
 "cells": [
  {
   "cell_type": "code",
   "execution_count": 4,
   "metadata": {},
   "outputs": [
    {
     "name": "stdout",
     "output_type": "stream",
     "text": [
      "[ 0.00000000e+00  5.87785252e-01  9.51056516e-01  9.51056516e-01\n",
      "  5.87785252e-01  1.22464680e-16 -5.87785252e-01 -9.51056516e-01\n",
      " -9.51056516e-01 -5.87785252e-01]\n"
     ]
    }
   ],
   "source": [
    "import numpy as np\n",
    "import matplotlib.pyplot as plt\n",
    "from keras import models, layers, optimizers, datasets, utils, losses\n",
    "\n",
    "# Sine data with 10 steps/cycle\n",
    "seq = np.array([np.sin(2*np.pi*i/10) for i in range(10)])\n",
    "print(seq)"
   ]
  },
  {
   "cell_type": "code",
   "execution_count": 5,
   "metadata": {},
   "outputs": [],
   "source": [
    "Num_sequences=200\n",
    "x_train=np.array([])\n",
    "y_train=np.array([])\n",
    "for i in range(Num_sequences):\n",
    "    ran=np.random.randint(10)\n",
    "    x_train = np.append(x_train,seq[ran])\n",
    "    y_train = np.append(y_train,seq[np.mod(ran+1,10)])\n",
    "    \n",
    "x_test=np.array(seq)  \n",
    "y_test=np.array(np.roll(seq,-1))  "
   ]
  },
  {
   "cell_type": "code",
   "execution_count": 6,
   "metadata": {},
   "outputs": [
    {
     "name": "stdout",
     "output_type": "stream",
     "text": [
      "_________________________________________________________________\n",
      "Layer (type)                 Output Shape              Param #   \n",
      "=================================================================\n",
      "input_1 (InputLayer)         (None, 1)                 0         \n",
      "_________________________________________________________________\n",
      "dense_1 (Dense)              (None, 10)                20        \n",
      "_________________________________________________________________\n",
      "dense_2 (Dense)              (None, 1)                 11        \n",
      "=================================================================\n",
      "Total params: 31\n",
      "Trainable params: 31\n",
      "Non-trainable params: 0\n",
      "_________________________________________________________________\n",
      "None\n",
      "10/10 [==============================] - 0s 19ms/step\n"
     ]
    },
    {
     "data": {
      "image/png": "[encoded data removed]",
      "text/plain": [
       "<Figure size 432x288 with 1 Axes>"
      ]
     },
     "metadata": {},
     "output_type": "display_data"
    }
   ],
   "source": [
    "#MLP1\n",
    "inputs = layers.Input(shape=(1,))\n",
    "h = layers.Dense(10, activation='relu')(inputs)\n",
    "outputs= layers.Dense(1, activation='tanh')(h)\n",
    "model = models.Model(inputs, outputs)\n",
    "\n",
    "model.compile(loss='mean_squared_error', optimizer='adam')\n",
    "print(model.summary())\n",
    "model.fit(x_train, y_train, epochs=1000, batch_size=100, verbose=0)\n",
    "\n",
    "# evaluate\n",
    "y_pred = model.predict(x_test, batch_size=10, verbose=1)\n",
    "plt.plot(y_test,'x')\n",
    "plt.plot(y_pred,'o')\n",
    "a = np.array([i for i in range(10)])\n",
    "b = np.roll( np.flip(a,0),-4)\n",
    "plt.plot(((y_test[a]+y_test[b])/2),'--')\n",
    "plt.rcParams.update({'font.size': 20})"
   ]
  },
  {
   "cell_type": "code",
   "execution_count": 7,
   "metadata": {},
   "outputs": [
    {
     "data": {
      "image/png": "[encoded data removed]",
      "text/plain": [
       "<Figure size 432x288 with 1 Axes>"
      ]
     },
     "metadata": {},
     "output_type": "display_data"
    }
   ],
   "source": [
    "plt.rcParams.update({'font.size': 20})\n",
    "plt.plot(y_test,'x',markersize=12)\n",
    "plt.plot(y_pred,'o',markersize=12)\n",
    "a = np.array([i for i in range(10)])\n",
    "b = np.roll( np.flip(a,0),-4)\n",
    "plt.plot(((y_test[a]+y_test[b])/2),'--')\n",
    "plt.savefig('tmp.pdf', format='pdf')"
   ]
  },
  {
   "cell_type": "code",
   "execution_count": 8,
   "metadata": {},
   "outputs": [],
   "source": [
    "x_train=np.array([])\n",
    "y_train=np.array([])\n",
    "for i in range(Num_sequences):\n",
    "    ran=np.random.randint(10)\n",
    "    x_train = np.append(x_train,[seq[ran],seq[np.mod(ran+1,10)]])\n",
    "    y_train = np.append(y_train,seq[np.mod(ran+2,10)])\n",
    "x_train=np.reshape(x_train,(Num_sequences,2))\n",
    "\n",
    "x_test=np.array([seq,np.roll(seq,-1)]).T\n",
    "y_test=np.array(np.roll(seq,-2))  "
   ]
  },
  {
   "cell_type": "code",
   "execution_count": 9,
   "metadata": {},
   "outputs": [
    {
     "name": "stdout",
     "output_type": "stream",
     "text": [
      "_________________________________________________________________\n",
      "Layer (type)                 Output Shape              Param #   \n",
      "=================================================================\n",
      "input_2 (InputLayer)         (None, 2)                 0         \n",
      "_________________________________________________________________\n",
      "dense_3 (Dense)              (None, 2)                 6         \n",
      "_________________________________________________________________\n",
      "dense_4 (Dense)              (None, 1)                 3         \n",
      "=================================================================\n",
      "Total params: 9\n",
      "Trainable params: 9\n",
      "Non-trainable params: 0\n",
      "_________________________________________________________________\n",
      "None\n",
      "10/10 [==============================] - 0s 20ms/step\n"
     ]
    },
    {
     "data": {
      "image/png": "[encoded data removed]",
      "text/plain": [
       "<Figure size 432x288 with 1 Axes>"
      ]
     },
     "metadata": {},
     "output_type": "display_data"
    }
   ],
   "source": [
    "#MLP2\n",
    "inputs = layers.Input(shape=(2,))\n",
    "h = layers.Dense(2, activation='relu')(inputs)\n",
    "outputs= layers.Dense(1, activation='tanh')(h)\n",
    "model = models.Model(inputs, outputs)\n",
    "\n",
    "model.compile(loss='mean_squared_error', optimizer='adam')\n",
    "print(model.summary())\n",
    "model.fit(x_train, y_train, epochs=1000, batch_size=100, verbose=0)\n",
    "\n",
    "# evaluate\n",
    "y_pred = model.predict(x_test, batch_size=10, verbose=1)\n",
    "plt.plot(y_test,'x')\n",
    "plt.plot(y_pred,'o')\n",
    "plt.savefig('tmp.pdf', format='pdf')"
   ]
  },
  {
   "cell_type": "code",
   "execution_count": null,
   "metadata": {},
   "outputs": [],
   "source": []
  },
  {
   "cell_type": "code",
   "execution_count": 10,
   "metadata": {},
   "outputs": [
    {
     "name": "stdout",
     "output_type": "stream",
     "text": [
      "_________________________________________________________________\n",
      "Layer (type)                 Output Shape              Param #   \n",
      "=================================================================\n",
      "input_3 (InputLayer)         (None, 2, 1)              0         \n",
      "_________________________________________________________________\n",
      "simple_rnn_1 (SimpleRNN)     (None, 1)                 3         \n",
      "_________________________________________________________________\n",
      "dense_5 (Dense)              (None, 1)                 2         \n",
      "=================================================================\n",
      "Total params: 5\n",
      "Trainable params: 5\n",
      "Non-trainable params: 0\n",
      "_________________________________________________________________\n",
      "None\n",
      "10/10 [==============================] - 0s 31ms/step\n"
     ]
    },
    {
     "data": {
      "text/plain": [
       "[<matplotlib.lines.Line2D at 0x208f42d9cf8>]"
      ]
     },
     "execution_count": 10,
     "metadata": {},
     "output_type": "execute_result"
    },
    {
     "data": {
      "image/png": "[encoded data removed]",
      "text/plain": [
       "<Figure size 432x288 with 1 Axes>"
      ]
     },
     "metadata": {},
     "output_type": "display_data"
    }
   ],
   "source": [
    "# RNN\n",
    "x_train=np.reshape(x_train,(200,2,1))\n",
    "x_test=np.reshape(x_test,(10,2,1))\n",
    "\n",
    "inputs = layers.Input(batch_shape=(None,2,1))\n",
    "x = layers.SimpleRNN(1, activation='tanh')(inputs)\n",
    "outputs= layers.Dense(1, activation='tanh')(x)\n",
    "model = models.Model(inputs, outputs)\n",
    "\n",
    "model.compile(loss='mean_squared_error', optimizer='adam')\n",
    "print(model.summary())\n",
    "\n",
    "model.fit(x_train, y_train, epochs=2000, batch_size=100, verbose=0)\n",
    "# evaluate\n",
    "y_pred = model.predict(x_test, batch_size=10, verbose=1)\n",
    "plt.plot(y_test,'x')\n",
    "plt.plot(y_pred,'o')"
   ]
  },
  {
   "cell_type": "code",
   "execution_count": null,
   "metadata": {},
   "outputs": [],
   "source": [
    "plt.plot(y_test,'x',markersize=12)\n",
    "plt.plot(y_pred,'o',markersize=12)\n",
    "plt.savefig('tmp.pdf', format='pdf')"
   ]
  },
  {
   "cell_type": "code",
   "execution_count": null,
   "metadata": {},
   "outputs": [],
   "source": []
  }
 ],
 "metadata": {
  "kernelspec": {
   "display_name": "Python 3",
   "language": "python",
   "name": "python3"
  },
  "language_info": {
   "codemirror_mode": {
    "name": "ipython",
    "version": 3
   },
   "file_extension": ".py",
   "mimetype": "text/x-python",
   "name": "python",
   "nbconvert_exporter": "python",
   "pygments_lexer": "ipython3",
   "version": "3.6.6"
  }
 },
 "nbformat": 4,
 "nbformat_minor": 2
}
