{
 "cells": [
  {
   "cell_type": "markdown",
   "metadata": {},
   "source": [
    "Demonstration of the benefit of vectorizing code"
   ]
  },
  {
   "cell_type": "code",
   "execution_count": null,
   "metadata": {},
   "outputs": [],
   "source": [
    "import numpy as np\n",
    "import matplotlib.pyplot as plt\n",
    "import time\n",
    "\n",
    "def matmulslow(a,b):\n",
    "    m = a.shape[1]\n",
    "    c=np.zeros((m,m))\n",
    "    for i in range(m):\n",
    "        for j in range(m):\n",
    "            for k in range(m):\n",
    "                c[i,j] = c[i,j]+a[i,k]*b[k,j]\n",
    "    return c;\n",
    "\n",
    "def matmulfast(a,b):\n",
    "    return a@b"
   ]
  },
  {
   "cell_type": "code",
   "execution_count": null,
   "metadata": {},
   "outputs": [],
   "source": [
    "size = np.array([])\n",
    "time1 = np.array([])\n",
    "time2 = np.array([])\n",
    "for n in range(10,130,10):\n",
    "    print(n)\n",
    "    size = np.append(size,n)\n",
    "    a = np.random.rand(n,n)\n",
    "    b = np.random.rand(n,n)\n",
    "    c = np.zeros((n,n))\n",
    "\n",
    "    timestart = time.time()\n",
    "    c = matmulslow(a,b)\n",
    "    time1 = np.append(time1,time.time()-timestart)\n",
    "   \n",
    "    timestart = time.time()\n",
    "    c = matmulfast(a,b)\n",
    "    time2 = np.append(time2,time.time()-timestart)\n"
   ]
  },
  {
   "cell_type": "code",
   "execution_count": null,
   "metadata": {},
   "outputs": [],
   "source": [
    "plt.rcParams.update({'font.size': 22})\n",
    "plt.plot(size,time1,'r')\n",
    "plt.plot(size,time2,'b')\n",
    "plt.xlabel(\"array size\")\n",
    "plt.ylabel(\"time [sec]\")"
   ]
  },
  {
   "cell_type": "code",
   "execution_count": null,
   "metadata": {},
   "outputs": [],
   "source": []
  },
  {
   "cell_type": "code",
   "execution_count": null,
   "metadata": {},
   "outputs": [],
   "source": []
  }
 ],
 "metadata": {
  "kernelspec": {
   "display_name": "Python 3 (ipykernel)",
   "language": "python",
   "name": "python3"
  },
  "language_info": {
   "codemirror_mode": {
    "name": "ipython",
    "version": 3
   },
   "file_extension": ".py",
   "mimetype": "text/x-python",
   "name": "python",
   "nbconvert_exporter": "python",
   "pygments_lexer": "ipython3",
   "version": "3.9.7"
  }
 },
 "nbformat": 4,
 "nbformat_minor": 2
}
