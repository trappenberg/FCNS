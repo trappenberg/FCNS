{
 "cells": [
  {
   "cell_type": "code",
   "execution_count": null,
   "id": "67af0350",
   "metadata": {},
   "outputs": [],
   "source": [
    "#FitzHugh-Nagumo model\n",
    "import matplotlib.pyplot as plt\n",
    "\n",
    "# Parameters and initialization\n",
    "Iext=0.5; v=[0]; w=[0]; t=[0]; dt=0.1\n",
    "        \n",
    "for step in range(1,int(200/dt)):\n",
    "   # record time steps \n",
    "   t.append(t[step-1]+dt)\n",
    "   # numerical integration and recording  \n",
    "   v.append(v[step-1]+dt*(v[step-1]-v[step-1]**3/3-w[step-1]+Iext)) \n",
    "   w.append(w[step-1]+dt*0.08*(v[step-1]+0.7-0.8*w[step-1])) \n",
    "    \n",
    "plt.plot(t,v); plt.xlabel('t'); plt.ylabel('v')"
   ]
  }
 ],
 "metadata": {
  "kernelspec": {
   "display_name": "Python 3 (ipykernel)",
   "language": "python",
   "name": "python3"
  },
  "language_info": {
   "codemirror_mode": {
    "name": "ipython",
    "version": 3
   },
   "file_extension": ".py",
   "mimetype": "text/x-python",
   "name": "python",
   "nbconvert_exporter": "python",
   "pygments_lexer": "ipython3",
   "version": "3.9.7"
  }
 },
 "nbformat": 4,
 "nbformat_minor": 5
}
