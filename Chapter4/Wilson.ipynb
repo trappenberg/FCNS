{
 "cells": [
  {
   "cell_type": "code",
   "execution_count": null,
   "id": "dacdcd56",
   "metadata": {},
   "outputs": [],
   "source": [
    "# Wilson neuron\n",
    "import numpy as np\n",
    "import matplotlib.pyplot as plt\n",
    "from scipy.integrate import odeint\n",
    "\n",
    "def ydot(y,t,Iext,g,E,tau): \n",
    "\n",
    "  V=y[0]; R=y[1]; T=y[2]; H=y[3]\n",
    "    \n",
    "  gNa = 17.8 + 47.6*V + 33.8*V**2\n",
    "  R0 = 1.24  +  3.7*V + 3.2*V**2\n",
    "  T0 = 4.205 + 11.6*V + 8  *V**2\n",
    "  X = np.array([R,gNa,T,H])\n",
    "  \n",
    "  Vdot = -1/tau[0]*(g*X@(V-E)-Iext)\n",
    "  Rdot = -1/tau[1]*(R-R0)\n",
    "  Tdot = -1/tau[2]*(T-T0)\n",
    "  Hdot = -1/tau[3]*(H-3*T)\n",
    "  \n",
    "  return np.array([Vdot,Rdot,Tdot,Hdot])\n",
    "  \n",
    "# parameters of the model: 0=K  1=Na  2=T  3=H\n",
    "g = np.array([26,1,2.25,9.5])\n",
    "E = np.array([-0.95,0.50,1.20,-0.95])\n",
    "tau = np.array([1,4.2,14,45])  \n",
    "  \n",
    "#1: Equilibration: no external input\n",
    "Iext=0; y0=np.zeros(4); y0[0]=-1 \n",
    "t=np.arange(0,100,0.1)\n",
    "y = odeint(ydot, y0, t, args=(Iext,g,E,tau))\n",
    "#2: Integration with external input\n",
    "Iext=1; y0=y[-1,:];  \n",
    "t=np.arange(0,200,0.1)\n",
    "y = odeint(ydot, y0, t, args=(Iext,g,E,tau))\n",
    "plt.plot(t,y[:,0]) \n",
    "plt.xlabel('Time'); plt.ylabel('Membrane potential')"
   ]
  }
 ],
 "metadata": {
  "kernelspec": {
   "display_name": "Python 3 (ipykernel)",
   "language": "python",
   "name": "python3"
  },
  "language_info": {
   "codemirror_mode": {
    "name": "ipython",
    "version": 3
   },
   "file_extension": ".py",
   "mimetype": "text/x-python",
   "name": "python",
   "nbconvert_exporter": "python",
   "pygments_lexer": "ipython3",
   "version": "3.9.7"
  }
 },
 "nbformat": 4,
 "nbformat_minor": 5
}
