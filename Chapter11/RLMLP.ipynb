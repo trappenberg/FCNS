{
 "cells": [
  {
   "cell_type": "code",
   "execution_count": 99,
   "metadata": {},
   "outputs": [
    {
     "name": "stdout",
     "output_type": "stream",
     "text": [
      "[[[ 0.39318073  0.9724101   0.47877428  0.3100453   0.23233014]]\n",
      "\n",
      " [[-0.14990714  0.2176756   0.21344842  0.5999626   0.2753968 ]]]\n",
      "policy: [-1. -1. -1.  1.  1.]\n"
     ]
    }
   ],
   "source": [
    "import numpy as np\n",
    "import matplotlib.pyplot as plt\n",
    "from keras import models, layers, optimizers\n",
    "\n",
    "def tau(s,a):\n",
    "    if (s[0] and s[4]) == 0 : \n",
    "        s=np.roll(s,a)\n",
    "    return s\n",
    "def rho(s):\n",
    "    return ((s[0]==1)+2*(s[4]==1))    \n",
    "def terminal_state(s):\n",
    "    return (s[0]==1 or s[4]==1)    \n",
    "\n",
    "gamma=0.5\n",
    "invT = 1\n",
    "\n",
    "# the network\n",
    "inputs = layers.Input(shape=(5,))\n",
    "h = layers.Dense(10, activation='relu')(inputs)\n",
    "outputs = layers.Dense(2, activation='linear')(h)\n",
    "\n",
    "model = models.Model(inputs=inputs, outputs=outputs)\n",
    "RMSprop = optimizers.RMSprop(lr=0.01)\n",
    "model.compile(loss='mse', optimizer=RMSprop)\n",
    "\n",
    "\n",
    "for trial in range(400):\n",
    "    s= np.array([0, 0, 1, 0, 0])\n",
    "    for t in range(0,5):\n",
    "        if terminal_state(s): break\n",
    "        if trial > 30 and invT > 0.1: invT -= 0.001\n",
    "        prediction=model.predict(s.reshape(1,5), steps=1, verbose=0)\n",
    "        aidx=np.argmax(prediction)\n",
    "        if np.random.rand() < invT : aidx=1-aidx\n",
    "        a=2*aidx-1\n",
    "        next_s = tau(s,a)\n",
    "        if terminal_state(next_s): \n",
    "            y = rho(next_s)\n",
    "        else:\n",
    "            y = gamma*np.max(model.predict(next_s.reshape(1,5), steps=1, verbose=0))\n",
    "        prediction[0,aidx]=y\n",
    "        model.fit(s.reshape(1,5), prediction, epochs=1, verbose=0)\n",
    "        s = np.copy(next_s) \n",
    "\n",
    "policy = np.zeros(5)\n",
    "Q=[]\n",
    "s = np.array([1,0,0,0,0])\n",
    "for i in range(0,5):\n",
    "    Qs=model.predict(s.reshape(1,5), steps=1)\n",
    "    Q.append(Qs)\n",
    "    aidx=np.argmax(Qs)\n",
    "    policy[i]=2*aidx-1\n",
    "    s = np.roll(s,1)\n",
    "print(np.transpose(Q))\n",
    "print('policy:',np.transpose(policy))"
   ]
  },
  {
   "cell_type": "code",
   "execution_count": 88,
   "metadata": {},
   "outputs": [
    {
     "name": "stdout",
     "output_type": "stream",
     "text": [
      "0.23873448371887207\n"
     ]
    }
   ],
   "source": [
    "print(yy)"
   ]
  },
  {
   "cell_type": "code",
   "execution_count": 89,
   "metadata": {},
   "outputs": [
    {
     "name": "stdout",
     "output_type": "stream",
     "text": [
      "0\n"
     ]
    }
   ],
   "source": [
    "print(prediction)\n"
   ]
  },
  {
   "cell_type": "code",
   "execution_count": null,
   "metadata": {},
   "outputs": [],
   "source": []
  }
 ],
 "metadata": {
  "kernelspec": {
   "display_name": "Python 3 (ipykernel)",
   "language": "python",
   "name": "python3"
  },
  "language_info": {
   "codemirror_mode": {
    "name": "ipython",
    "version": 3
   },
   "file_extension": ".py",
   "mimetype": "text/x-python",
   "name": "python",
   "nbconvert_exporter": "python",
   "pygments_lexer": "ipython3",
   "version": "3.9.7"
  }
 },
 "nbformat": 4,
 "nbformat_minor": 2
}
